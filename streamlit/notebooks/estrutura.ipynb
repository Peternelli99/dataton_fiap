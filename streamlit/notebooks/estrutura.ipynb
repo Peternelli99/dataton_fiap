{
 "cells": [
  {
   "cell_type": "markdown",
   "metadata": {},
   "source": [
    "datathon-decision/\n",
    "├── app/\n",
    "│   ├── app.py                 # Interface principal Streamlit\n",
    "│   └── pages/\n",
    "│       ├── 01_🎯_Ranking_Candidatos.py\n",
    "│       ├── 02_📊_Analytics_Vagas.py\n",
    "│       └── 03_🔍_Insights_Modelo.py\n",
    "├── src/\n",
    "│   ├── preprocessing.py       # Funções de pré-processamento\n",
    "│   ├── feature_engineering.py # Transformações de variáveis  \n",
    "│   ├── model_utils.py        # Carregamento e inferência\n",
    "│   ├── train.py             # Treinamento do modelo\n",
    "│   ├── evaluate.py          # Métricas de avaliação\n",
    "│   └── utils.py             # Funções auxiliares\n",
    "├── models/\n",
    "│   └── model_lgbm.pkl       # Modelo LightGBM serializado\n",
    "├── data/\n",
    "│   ├── df_clean.csv         # Dataset processado\n",
    "│   ├── vagas.json          # Dados originais\n",
    "│   ├── prospects.json      # Dados originais  \n",
    "│   └── applicants.json     # Dados originais\n",
    "├── notebooks/\n",
    "│   ├── eda_ok.ipynb        # EDA completo\n",
    "│   └── treino.ipynb        # Treinamento e validação\n",
    "├── tests/\n",
    "│   └── test_model_utils.py  # Testes unitários\n",
    "├── requirements.txt         # Dependências\n",
    "├── README.md               # Documentação completa\n",
    "└── .streamlit/\n",
    "    └── config.toml         # Configuração do Streamlit\n"
   ]
  }
 ],
 "metadata": {
  "language_info": {
   "name": "python"
  }
 },
 "nbformat": 4,
 "nbformat_minor": 2
}
